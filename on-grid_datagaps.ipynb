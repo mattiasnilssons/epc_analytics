{
 "cells": [
  {
   "cell_type": "code",
   "execution_count": null,
   "metadata": {},
   "outputs": [],
   "source": [
    "%reset"
   ]
  },
  {
   "cell_type": "code",
   "execution_count": 42,
   "metadata": {},
   "outputs": [
    {
     "name": "stdout",
     "output_type": "stream",
     "text": [
      "The autoreload extension is already loaded. To reload it, use:\n",
      "  %reload_ext autoreload\n"
     ]
    }
   ],
   "source": [
    "%load_ext autoreload\n",
    "%autoreload 1\n",
    "%aimport cooking_session\n",
    "%run cooking_session.py"
   ]
  },
  {
   "cell_type": "code",
   "execution_count": 43,
   "metadata": {},
   "outputs": [],
   "source": [
    "df_raw = pd.read_csv('files/ongridpilot_jan19.csv', sep=',')"
   ]
  },
  {
   "cell_type": "code",
   "execution_count": 7,
   "metadata": {},
   "outputs": [
    {
     "name": "stdout",
     "output_type": "stream",
     "text": [
      "The data has this many spikes: 0\n"
     ]
    }
   ],
   "source": [
    "min_size_of_spikes=0.0\n",
    "df_spikes = df_raw.loc[(df_raw.energy > df_raw.energy.shift(-1) + min_size_of_spikes) &\n",
    "                   (df_raw.meter_number == df_raw.meter_number.shift(-1))]\n",
    "print('The data has this many spikes: ' + str(df_spikes.timestamp.count()))"
   ]
  },
  {
   "cell_type": "code",
   "execution_count": 25,
   "metadata": {},
   "outputs": [
    {
     "name": "stdout",
     "output_type": "stream",
     "text": [
      "The data has this many timestamp issues: 0\n"
     ]
    }
   ],
   "source": [
    "# Parameters\n",
    "time_resolution = 1\n",
    "\n",
    "df_raw = resolve_spikes(df_raw)\n",
    "df_processed = extract_cooking_events(df_raw, time_resolution=1, \n",
    "                             error_margin=0,\n",
    "                             min_cooking_event=0.04,\n",
    "                            event_min_current = 0,\n",
    "                            min_active_load=0.05)\n",
    "\n",
    "error_margin=0.01\n",
    "df_epc = df_processed.copy()\n",
    "df_epc.reset_index(inplace=True)\n",
    "\n",
    "# Make on intermediate Cooking Event Count\n",
    "df_epc['event_count'] = 0\n",
    "df_epc.loc[(df_epc.cooking_event.diff()\n",
    "                    != 0), 'event_count'] += 1\n",
    "df_epc.event_count = df_epc['event_count'].cumsum()  \n",
    "\n",
    "df_epc.loc[\n",
    "(df_epc.cooking_event.isnull() == True),\n",
    "'event_count'] = np.nan\n",
    "\n",
    "# checking start of events\n",
    "start_of_event = df_epc.copy()\n",
    "start_of_event = start_of_event.groupby(\n",
    "    ['meter_number', 'event_count']).head(1)\n",
    "start_of_event.loc[\n",
    "    ((start_of_event['energy'] -\n",
    "      error_margin <= start_of_event['energy'].shift()) & (\n",
    "        start_of_event.event_count.isnull() == False) & (\n",
    "        start_of_event.meter_number == start_of_event.meter_number.shift())),\n",
    "    'timestamp_issue'] = True\n",
    "\n",
    "df_epc['timestamp_issue'] = df_epc.event_count.map(\n",
    "    start_of_event.set_index('event_count')['timestamp_issue'].to_dict())\n",
    "\n",
    "# checking end of events\n",
    "end_of_event = df_epc.copy()\n",
    "end_of_event = end_of_event.groupby(\n",
    "    ['meter_number', 'event_count']).tail(1)\n",
    "end_of_event.loc[\n",
    "    ((end_of_event['energy'] -\n",
    "      error_margin <= end_of_event['energy'].shift()) & (\n",
    "        end_of_event.event_count.isnull() == False) & (\n",
    "        end_of_event.meter_number == end_of_event.meter_number.shift())),\n",
    "    'timestamp_issue'] = True\n",
    "\n",
    "df_epc['timestamp_issue'] = df_epc.event_count.map(\n",
    "    end_of_event.set_index('event_count')['timestamp_issue'].to_dict())\n",
    "\n",
    "df_timestamp_issue = df_epc.loc[(df_epc['timestamp_issue'] == True)]\n",
    "print('The data has this many timestamp issues: ' + str(df_timestamp_issue.timestamp.count()))"
   ]
  },
  {
   "cell_type": "code",
   "execution_count": 26,
   "metadata": {},
   "outputs": [
    {
     "name": "stdout",
     "output_type": "stream",
     "text": [
      "The data has this much missing energy consumption [kWh] before adding start and end of cooking events: 87.31999999999998\n"
     ]
    }
   ],
   "source": [
    "df_epc = extract_cooking_events(df_raw, time_resolution=1, \n",
    "                             error_margin=0,\n",
    "                             min_cooking_event=0.04,\n",
    "                            event_min_current = 0,\n",
    "                            min_active_load=0.05)\n",
    "df_epc.reset_index(inplace=True)\n",
    "df_epc.loc[\n",
    "            (\n",
    "                (df_epc.energy.shift(-1) - df_epc.energy > 0.0)\n",
    "                & (df_epc.meter_number == df_epc.meter_number.shift(-1))\n",
    "                  & (df_epc.cooking_event != df_epc.cooking_event.shift(-1))\n",
    "            ), 'energy_gap_to_next'] = df_epc.energy.shift(-1) - df_epc.energy\n",
    "df_epc.set_index('timestamp', inplace=True)\n",
    "print('The data has this much missing energy consumption [kWh] before adding start and end of cooking events: ' + str(df_epc.energy_gap_to_next.sum()))"
   ]
  },
  {
   "cell_type": "code",
   "execution_count": 27,
   "metadata": {},
   "outputs": [
    {
     "name": "stdout",
     "output_type": "stream",
     "text": [
      "The data has this much missing energy consumption [kWh] after adding start and end of cooking events: 86.19333333333331\n"
     ]
    }
   ],
   "source": [
    "df_epc = preprocess_epc_data(df_raw, time_resolution=1, \n",
    "                             error_margin=0,\n",
    "                             min_cooking_event=0.04,\n",
    "                            event_min_current = 0,\n",
    "                            min_active_load=0.05)\n",
    "df_only_events = create_only_event_df(df_epc)\n",
    "df_epc = clean_data_set(df_epc)\n",
    "\n",
    "# Create a column of the energy gaps that still exist after cleaning the data\n",
    "df_epc.reset_index(inplace=True)\n",
    "df_epc.loc[\n",
    "            (\n",
    "                (df_epc.energy.shift(-1) - df_epc.energy > 0.0)\n",
    "                & (df_epc.meter_number == df_epc.meter_number.shift(-1))\n",
    "                  & (df_epc.event_count != df_epc.event_count.shift(-1))\n",
    "            ), 'energy_gap_to_next'] = df_epc.energy.shift(-1) - df_epc.energy\n",
    "df_epc.set_index('timestamp', inplace=True)\n",
    "print('The data has this much missing energy consumption [kWh] after adding start and end of cooking events: ' + str(df_epc.energy_gap_to_next.sum()))"
   ]
  },
  {
   "cell_type": "code",
   "execution_count": 37,
   "metadata": {},
   "outputs": [
    {
     "data": {
      "text/html": [
       "<div>\n",
       "<style scoped>\n",
       "    .dataframe tbody tr th:only-of-type {\n",
       "        vertical-align: middle;\n",
       "    }\n",
       "\n",
       "    .dataframe tbody tr th {\n",
       "        vertical-align: top;\n",
       "    }\n",
       "\n",
       "    .dataframe thead th {\n",
       "        text-align: right;\n",
       "    }\n",
       "</style>\n",
       "<table border=\"1\" class=\"dataframe\">\n",
       "  <thead>\n",
       "    <tr style=\"text-align: right;\">\n",
       "      <th></th>\n",
       "      <th>energy_lost</th>\n",
       "      <th>count</th>\n",
       "      <th>hour_gap</th>\n",
       "      <th>meter_number</th>\n",
       "    </tr>\n",
       "    <tr>\n",
       "      <th>energy_gap_to_next</th>\n",
       "      <th></th>\n",
       "      <th></th>\n",
       "      <th></th>\n",
       "      <th></th>\n",
       "    </tr>\n",
       "  </thead>\n",
       "  <tbody>\n",
       "    <tr>\n",
       "      <th>(0.0, 0.01]</th>\n",
       "      <td>8.903333</td>\n",
       "      <td>909</td>\n",
       "      <td>529.433333</td>\n",
       "      <td>29</td>\n",
       "    </tr>\n",
       "    <tr>\n",
       "      <th>(0.01, 0.02]</th>\n",
       "      <td>10.810000</td>\n",
       "      <td>940</td>\n",
       "      <td>1653.366667</td>\n",
       "      <td>29</td>\n",
       "    </tr>\n",
       "    <tr>\n",
       "      <th>(0.02, 0.05]</th>\n",
       "      <td>6.483333</td>\n",
       "      <td>207</td>\n",
       "      <td>1953.800000</td>\n",
       "      <td>20</td>\n",
       "    </tr>\n",
       "    <tr>\n",
       "      <th>(0.05, 0.07]</th>\n",
       "      <td>4.800000</td>\n",
       "      <td>82</td>\n",
       "      <td>925.283333</td>\n",
       "      <td>13</td>\n",
       "    </tr>\n",
       "    <tr>\n",
       "      <th>(0.07, 0.085]</th>\n",
       "      <td>2.350000</td>\n",
       "      <td>32</td>\n",
       "      <td>180.666667</td>\n",
       "      <td>8</td>\n",
       "    </tr>\n",
       "    <tr>\n",
       "      <th>(0.085, 0.1]</th>\n",
       "      <td>1.470000</td>\n",
       "      <td>16</td>\n",
       "      <td>80.416667</td>\n",
       "      <td>6</td>\n",
       "    </tr>\n",
       "    <tr>\n",
       "      <th>(0.1, 0.2]</th>\n",
       "      <td>6.446667</td>\n",
       "      <td>46</td>\n",
       "      <td>155.500000</td>\n",
       "      <td>7</td>\n",
       "    </tr>\n",
       "    <tr>\n",
       "      <th>(0.2, 0.3]</th>\n",
       "      <td>3.820000</td>\n",
       "      <td>16</td>\n",
       "      <td>88.300000</td>\n",
       "      <td>6</td>\n",
       "    </tr>\n",
       "    <tr>\n",
       "      <th>(0.3, 0.4]</th>\n",
       "      <td>2.030000</td>\n",
       "      <td>6</td>\n",
       "      <td>0.250000</td>\n",
       "      <td>5</td>\n",
       "    </tr>\n",
       "    <tr>\n",
       "      <th>(0.4, 0.5]</th>\n",
       "      <td>2.180000</td>\n",
       "      <td>5</td>\n",
       "      <td>0.166667</td>\n",
       "      <td>5</td>\n",
       "    </tr>\n",
       "    <tr>\n",
       "      <th>(0.5, 0.6]</th>\n",
       "      <td>0.540000</td>\n",
       "      <td>1</td>\n",
       "      <td>0.083333</td>\n",
       "      <td>1</td>\n",
       "    </tr>\n",
       "    <tr>\n",
       "      <th>(0.6, 0.7]</th>\n",
       "      <td>2.020000</td>\n",
       "      <td>3</td>\n",
       "      <td>15.000000</td>\n",
       "      <td>3</td>\n",
       "    </tr>\n",
       "    <tr>\n",
       "      <th>(0.7, 0.8]</th>\n",
       "      <td>0.760000</td>\n",
       "      <td>1</td>\n",
       "      <td>0.083333</td>\n",
       "      <td>1</td>\n",
       "    </tr>\n",
       "    <tr>\n",
       "      <th>(0.8, 0.9]</th>\n",
       "      <td>0.850000</td>\n",
       "      <td>1</td>\n",
       "      <td>0.083333</td>\n",
       "      <td>1</td>\n",
       "    </tr>\n",
       "    <tr>\n",
       "      <th>(0.9, 1.0]</th>\n",
       "      <td>0.000000</td>\n",
       "      <td>0</td>\n",
       "      <td>0.000000</td>\n",
       "      <td>0</td>\n",
       "    </tr>\n",
       "    <tr>\n",
       "      <th>(1.0, 1000.0]</th>\n",
       "      <td>32.730000</td>\n",
       "      <td>7</td>\n",
       "      <td>3.166667</td>\n",
       "      <td>6</td>\n",
       "    </tr>\n",
       "  </tbody>\n",
       "</table>\n",
       "</div>"
      ],
      "text/plain": [
       "                    energy_lost  count     hour_gap  meter_number\n",
       "energy_gap_to_next                                               \n",
       "(0.0, 0.01]            8.903333    909   529.433333            29\n",
       "(0.01, 0.02]          10.810000    940  1653.366667            29\n",
       "(0.02, 0.05]           6.483333    207  1953.800000            20\n",
       "(0.05, 0.07]           4.800000     82   925.283333            13\n",
       "(0.07, 0.085]          2.350000     32   180.666667             8\n",
       "(0.085, 0.1]           1.470000     16    80.416667             6\n",
       "(0.1, 0.2]             6.446667     46   155.500000             7\n",
       "(0.2, 0.3]             3.820000     16    88.300000             6\n",
       "(0.3, 0.4]             2.030000      6     0.250000             5\n",
       "(0.4, 0.5]             2.180000      5     0.166667             5\n",
       "(0.5, 0.6]             0.540000      1     0.083333             1\n",
       "(0.6, 0.7]             2.020000      3    15.000000             3\n",
       "(0.7, 0.8]             0.760000      1     0.083333             1\n",
       "(0.8, 0.9]             0.850000      1     0.083333             1\n",
       "(0.9, 1.0]             0.000000      0     0.000000             0\n",
       "(1.0, 1000.0]         32.730000      7     3.166667             6"
      ]
     },
     "execution_count": 37,
     "metadata": {},
     "output_type": "execute_result"
    }
   ],
   "source": [
    "df_gaps = df_epc.copy()\n",
    "df_gaps.reset_index(inplace=True)\n",
    "#df_epc_meter = df_gaps.loc[df_gaps['meter_number']==86000174]\n",
    "#df_gaps = df_epc_meter.copy()\n",
    "df_gaps['energy_lost'] = df_gaps['energy_gap_to_next']\n",
    "df_gaps.loc[(df_gaps['timestamp']-df_gaps['timestamp'].shift() > pd.to_timedelta(1, unit='m'))&\\\n",
    "        (df_gaps['meter_number'] == df_gaps['meter_number'].shift()), 'time_gap2'] = df_gaps['timestamp']-df_gaps['timestamp'].shift()\n",
    "df_gaps['hour_gap'] = df_gaps['time_gap2']/np.timedelta64(1, 'h')\n",
    "df_gaps = df_gaps.groupby(pd.cut(df_gaps['energy_gap_to_next'],\n",
    "                    [0,0.01,0.02,0.05,0.07,0.085, 0.1,0.2,0.3,0.4,0.5,0.6,0.7,0.8,0.9,1,1000])).agg({'energy_lost':'sum', 'timezone_region':'count', 'hour_gap' : 'sum', 'meter_number' :'nunique'})\n",
    "df_gaps.rename({'timezone_region':'count'},axis=1,inplace=True)\n",
    "df_gaps"
   ]
  },
  {
   "cell_type": "code",
   "execution_count": 29,
   "metadata": {},
   "outputs": [
    {
     "name": "stdout",
     "output_type": "stream",
     "text": [
      "meter_number\n",
      "86000174    21.333333\n",
      "86000174     3.280000\n",
      "86000137     2.313333\n",
      "86000142     2.030000\n",
      "86000155     1.410000\n",
      "86000134     1.200000\n",
      "Name: energy_gap_to_next, dtype: float64\n"
     ]
    }
   ],
   "source": [
    "df_epc.reset_index(inplace=True)\n",
    "df_epc.set_index('meter_number', inplace=True)\n",
    "print(df_epc.energy_gap_to_next.nlargest(6))\n",
    "df_epc.reset_index(inplace=True)\n",
    "df_epc.set_index('timestamp', inplace=True)"
   ]
  },
  {
   "cell_type": "code",
   "execution_count": 40,
   "metadata": {},
   "outputs": [
    {
     "name": "stdout",
     "output_type": "stream",
     "text": [
      "number of active meters in tz_cooking_pilot_2 region: 33\n"
     ]
    }
   ],
   "source": [
    "print('number of active meters in tz_cooking_pilot_2 region: ' + str(df_epc.energy_rank.nunique()))"
   ]
  },
  {
   "cell_type": "code",
   "execution_count": 30,
   "metadata": {},
   "outputs": [
    {
     "name": "stdout",
     "output_type": "stream",
     "text": [
      "energy [kWh] totally recorded by the SM: 260.73\n"
     ]
    }
   ],
   "source": [
    "energy_min = df_epc.groupby('meter_number').agg({'energy':'min'})\n",
    "energy_max = df_epc.groupby('meter_number').agg({'energy':'max'})\n",
    "energy_tot = energy_max - energy_min\n",
    "print('energy [kWh] totally recorded by the SM: ' + str(energy_tot['energy'].sum()))"
   ]
  },
  {
   "cell_type": "code",
   "execution_count": 31,
   "metadata": {},
   "outputs": [
    {
     "name": "stdout",
     "output_type": "stream",
     "text": [
      "energy [kWh] totally recorded in cooking events: 174.5366666666667\n"
     ]
    }
   ],
   "source": [
    "cooking_event_energy_min = df_epc.groupby('event_count').first()\n",
    "cooking_event_energy_max = df_epc.groupby('event_count').last()\n",
    "cooking_event_energy_tot = cooking_event_energy_max['energy'] - cooking_event_energy_min['energy']\n",
    "print('energy [kWh] totally recorded in cooking events: ' + str(cooking_event_energy_tot.sum()))"
   ]
  },
  {
   "cell_type": "code",
   "execution_count": 32,
   "metadata": {},
   "outputs": [
    {
     "name": "stdout",
     "output_type": "stream",
     "text": [
      "Total energy consumption [kWh]: 260.73\n",
      "Energy consumption [kWh], which is not part of a cooking session: 86.19\n"
     ]
    }
   ],
   "source": [
    "print('Total energy consumption [kWh]: ' + '{0:.2f}'.format(energy_tot['energy'].sum()))\n",
    "print('Energy consumption [kWh], which is not part of a cooking session: ' + '{0:.2f}'.format(energy_tot['energy'].sum() - cooking_event_energy_tot.sum()))"
   ]
  },
  {
   "cell_type": "code",
   "execution_count": 33,
   "metadata": {},
   "outputs": [
    {
     "data": {
      "text/plain": [
       "715"
      ]
     },
     "execution_count": 33,
     "metadata": {},
     "output_type": "execute_result"
    }
   ],
   "source": [
    "df_epc.event_count.nunique()"
   ]
  },
  {
   "cell_type": "code",
   "execution_count": 38,
   "metadata": {},
   "outputs": [
    {
     "data": {
      "text/plain": [
       "174.5366666666667"
      ]
     },
     "execution_count": 38,
     "metadata": {},
     "output_type": "execute_result"
    }
   ],
   "source": [
    "cooking_event_energy_min = df_epc.groupby('event_count').first()\n",
    "cooking_event_energy_max = df_epc.groupby('event_count').last()\n",
    "cooking_event_energy_tot = cooking_event_energy_max['energy'] - cooking_event_energy_min['energy']\n",
    "cooking_event_energy_tot.sum()"
   ]
  },
  {
   "cell_type": "code",
   "execution_count": 39,
   "metadata": {},
   "outputs": [
    {
     "data": {
      "text/plain": [
       "260.73"
      ]
     },
     "execution_count": 39,
     "metadata": {},
     "output_type": "execute_result"
    }
   ],
   "source": [
    "energy_min = df_epc.groupby('meter_number').agg({'energy':'min'})\n",
    "energy_max = df_epc.groupby('meter_number').agg({'energy':'max'})\n",
    "energy_tot = energy_max - energy_min\n",
    "energy_tot['energy'].sum()"
   ]
  },
  {
   "cell_type": "code",
   "execution_count": null,
   "metadata": {},
   "outputs": [],
   "source": []
  }
 ],
 "metadata": {
  "kernelspec": {
   "display_name": "Python 3",
   "language": "python",
   "name": "python3"
  },
  "language_info": {
   "codemirror_mode": {
    "name": "ipython",
    "version": 3
   },
   "file_extension": ".py",
   "mimetype": "text/x-python",
   "name": "python",
   "nbconvert_exporter": "python",
   "pygments_lexer": "ipython3",
   "version": "3.8.5"
  }
 },
 "nbformat": 4,
 "nbformat_minor": 4
}
